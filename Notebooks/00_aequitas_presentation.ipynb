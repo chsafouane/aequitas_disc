{
 "cells": [
  {
   "cell_type": "markdown",
   "id": "a1bb658c",
   "metadata": {},
   "source": [
    "**Aequitas** is an open-source bias-audit toolkit that makes it easy to audit ML models for discrimination and bias.\n",
    "\n",
    "## Interface\n",
    "Aequitas can be used through:\n",
    "- a **[python package](https://dssg.github.io/aequitas/using_python.html)**\n",
    "- a **[web-app](https://dssg.github.io/aequitas/30_seconds_webapp.html)** that can be used online or locally\n",
    "- a **[CLI](https://dssg.github.io/aequitas/CLI.html)**\n",
    "\n",
    "While the web-app and the CLI come in handy in many occasions -e.g: a report can be generated on the fly-, the python package should be preferred when auditing a model in an explorative manner.\n",
    "In this notebook, only the functionalities of the python package will be demonstrated."
   ]
  },
  {
   "cell_type": "markdown",
   "id": "b6a4f9d1",
   "metadata": {},
   "source": [
    "## Input data"
   ]
  },
  {
   "cell_type": "markdown",
   "id": "fff2467a",
   "metadata": {},
   "source": [
    "For the time being, Aequitas only works with **binary classification**. Aequitas expects at least these three columns:\n",
    "\n",
    "- **score (reserved keyword, mandatory)**: The output of the model. It can either be a 0/1 input or probabilities for the 1 class.<br>When the user provides probabilities instead of a 0/1 score, he can also provide a probability threshold to convert the column into a 0/1 column.\n",
    "- **label_value (reserved keyword)**: This is a 0/1 column and it represents the ground truth.\n",
    "- **attribute (mandatory)**: Attributes (usually protected attributes) that are used for bias analysis. Such attributes can be age, sex, income, etc.<br>These attributes should be categorical. Numerical attributes should be converted to categorical ones.\n",
    "\n",
    "Other reserved keywords are *id*, *model_id*, *entity_id*, *rank_abs* and *rank_pct*."
   ]
  },
  {
   "cell_type": "markdown",
   "id": "10d02659",
   "metadata": {},
   "source": [
    "<img src=\"../themes/python_input.jpg\">"
   ]
  },
  {
   "cell_type": "code",
   "execution_count": null,
   "id": "e3a3ade1",
   "metadata": {},
   "outputs": [],
   "source": []
  }
 ],
 "metadata": {
  "kernelspec": {
   "display_name": "Python 3 (ipykernel)",
   "language": "python",
   "name": "python3"
  },
  "language_info": {
   "codemirror_mode": {
    "name": "ipython",
    "version": 3
   },
   "file_extension": ".py",
   "mimetype": "text/x-python",
   "name": "python",
   "nbconvert_exporter": "python",
   "pygments_lexer": "ipython3",
   "version": "3.9.7"
  }
 },
 "nbformat": 4,
 "nbformat_minor": 5
}
