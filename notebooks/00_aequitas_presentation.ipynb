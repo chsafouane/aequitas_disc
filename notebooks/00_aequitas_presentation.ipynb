{
 "cells": [
  {
   "cell_type": "markdown",
   "id": "8ead0158-6892-4c45-a775-aa787b985f4f",
   "metadata": {},
   "source": [
    "<center><img src=\"../themes/aequitas_logo.png\"/></center>\n",
    "<center><figcaption>Fig.1 - Logo d'Aequitas</figcaption></center>"
   ]
  },
  {
   "cell_type": "markdown",
   "id": "a1bb658c",
   "metadata": {
    "tags": []
   },
   "source": [
    "# 1. Introduction\n",
    "\n",
    "**Aequitas** est un outil open-source d'audit de biais et de discrimination dans les modèles de machine learning.\n",
    "\n",
    "## 1.1. Interface\n",
    "Aequitas peut être utilisé via trois interfaces.\n",
    "- Un **[package python](https://dssg.github.io/aequitas/using_python.html)**\n",
    "- Une **[interface web](https://dssg.github.io/aequitas/30_seconds_webapp.html)** qui peut être utilisée soit à partir du site d'Aequitas soit localement.\n",
    "- Une **[CLI](https://dssg.github.io/aequitas/CLI.html)**\n",
    "\n",
    "Alors que les trois interfaces permettent de mener le même type d'analyse, la CLI et l'interface web permettent de générer des rapports d'analyse de biais très rapidement. Le package python est très pratique lors d'une analyse exploratoire du biais et lors de l'interaction avec d'autres packages.\n",
    "\n",
    "Dans ce notebook, seules les fonctionnalités du package python seront présentées."
   ]
  },
  {
   "cell_type": "markdown",
   "id": "b6a4f9d1",
   "metadata": {},
   "source": [
    "## 1.2. Données d'entrée"
   ]
  },
  {
   "cell_type": "markdown",
   "id": "fff2467a",
   "metadata": {},
   "source": [
    "Pour le moment, Aequitas permet de mener des analyses seulement dans le cas de problématiques de **classification binaire**. \n",
    "\n",
    "En données d'entrée, Aequitas s'attend au moins à deux colonnes:\n",
    "\n",
    "- **score**: Cette colonne doit correspondre à la sortie du modèle. \n",
    "    - Elle peut prendre comme valeur soit des **0/1 ou des probabilités**. \n",
    "    - En cas de probabilités, l'utilisateur doit fournir le seuil permettant de séparer les deux classes.\n",
    "- **attribute**: Cette colonne correspond à la variable sensible. \n",
    "    - Aequitas permet d'analyser le biais avec **plusieurs variables sensibles** à la fois et *plusieurs colonnes* peuvent donc être fournies en entrée.\n",
    "    - Aequitas ne prend que **des variables à protéger catégorielles**.\n",
    "    - Les variables sensibles dépendent du cadre réglementaire et du contexte de l'analyse mais l'âge et le sexe sont des exemples de variables qui sont souvent considérées comme variables à protéger.\n",
    "- **label_value**: correspond à la valeur réelle (ground-truth) de de l'output. Cette colonne n'est pas obligatoire mais le fait de la fournir permet de calculer plusieurs métriques en plus.\n",
    "\n",
    "\n",
    "Mots réservés dans Aequitas: *score*, *label_value*, *id*, *model_id*, *entity_id*, *rank_abs* et *rank_pct*."
   ]
  },
  {
   "cell_type": "markdown",
   "id": "42e51201-2245-48cf-b2ed-28f6c597b039",
   "metadata": {},
   "source": [
    "<center><img src=\"../themes/python_input.jpg\"/></center>\n",
    "<center><figcaption>Fig.2 - Données d'entrée pour Aequitas</figcaption></center>"
   ]
  },
  {
   "cell_type": "markdown",
   "id": "08576c66-e6e3-46b3-9c7f-cb47be709c48",
   "metadata": {},
   "source": [
    "## 1.3. Structure d'Aequitas"
   ]
  },
  {
   "cell_type": "markdown",
   "id": "4a76b9d1-a9b9-40f8-b1d1-5fe230b7da92",
   "metadata": {},
   "source": [
    "Aequitas contient 4 classes. Chacune de ces 4 classes a un rôle spécifique.\n",
    "\n",
    "Dans la pratique, les trois classes suivantes sont utilisées l'une à la suite de l'autre.\n",
    "- `Group`: Cette classe permet de **définir les variables à protéger** et de **calculer les métriques** de groupe dessus.\n",
    "- `Bias`: Cette classe **calcule les disparités** entre les différents groupes, et ce à partir des résultats des métriques calculées par les méthodes de la classe `Group`.\n",
    "- `Fairness`: Cette classe permet de **définir la mesure d'équité** et indique si la définition est respectée par l'output du modèle.\n",
    "\n",
    "La dernière classe, en l'occurrence `Plot` contient plusieurs fonctions qui permettent d'obtenir rapidement **des visualisations adaptées** à l'output de chacune des classes ci-dessus."
   ]
  },
  {
   "cell_type": "markdown",
   "id": "7932980f-faba-428a-b541-aca3eba0f7d8",
   "metadata": {},
   "source": [
    "# 2. Cas pratique - COMPAS"
   ]
  },
  {
   "cell_type": "markdown",
   "id": "4d700ab7-68a7-40b8-9839-5982fd2696f0",
   "metadata": {},
   "source": [
    "## 2.1. Contexte\n",
    "\n",
    "**Disclaimer: Alors que l'analyse du dataset issu de l'outil COMPAS est un usecase classique dans l'analyse des biais des modèles, cet exemple s'inspire beaucoup de la documentation d'Aequitas ainsi que de plusieurs présentations de l'équipe d'Aequitas.**\n",
    "\n",
    "*COMPAS* est un outil d'évaluation de risques d'individus qui est utilisé dans plusieurs états aux Etats-Unis. Le but de l'outil est d'évaluer les risques que peuvent présenter les individus et d'aider ainsi les juges à prendre **certains types de décisions** telle que la possibilité de mise en liberté provisoire sous caution.\n",
    "\n",
    "En 2016, ProPublica a mené une investigation de l'impact de COMPAS et des biais qu'il présente. Pour plus d'éléments sur l'analyse menée par ProPublica du modèle utilisé dans l'outil COMPAS, n'hésitez pas à consulter:\n",
    "- [Machine Bias: Risk Assessments in Criminal Sentencing](https://www.propublica.org/article/machine-bias-risk-assessments-in-criminal-sentencing)\n",
    "- [Le dépôt github de l'analyse de ProPublica](https://github.com/propublica/compas-analysis)\n",
    "\n",
    "<br>\n",
    "<center><img src=\"../themes/propublica_article_fig.jpeg\" width=\"500\" height=\"auto\"/></center>\n",
    "<center><figcaption>Fig.3 - Bernard Parker, à gauche, évalué risque élevé; Dylan Fugett évalué risque bas</figcaption></center>\n",
    "\n",
    "\n",
    "<center><a href=\"https://www.propublica.org/article/machine-bias-risk-assessments-in-criminal-sentencing\">Source: ProPublica</a></center>\n"
   ]
  },
  {
   "cell_type": "markdown",
   "id": "58656b02-16d3-4221-9c2e-20a1229fdca5",
   "metadata": {},
   "source": [
    "## 2.2. Jeu de données"
   ]
  },
  {
   "cell_type": "markdown",
   "id": "77a351fe-1ebe-45f3-be17-3ab0320aa7ce",
   "metadata": {},
   "source": [
    "COMPAS produit un score qui correspond au **risque de récidivisme**. Ce risque correspond au risque de commettre un crime dans les deux ans qui suivent.\n",
    "\n",
    "\n",
    "Le **résultat de COMPAS** correspond à un score qui va de 1 à 10. Dans ce cas pratique, ce score a été converti à un score binaire, avec:\n",
    "- Score de 0: Risque de récidivisme bas\n",
    "- Score de 1: Risque de récidivisme élevé\n",
    "\n",
    "Les **variables à protéger** dans ce cas pratique sont l'*âge*, le *sexe* et l'*origine ethnique*.\n",
    "\n",
    "Le jeu de données à disposition est issu du dépôt Github d'Aequitas et est déjà dans le bon format pour Aequitas. Il correspond à deux ans de prédictions de COMPAS sur la population concernée parmi les habitants de Broward County, FL."
   ]
  },
  {
   "cell_type": "code",
   "execution_count": 5,
   "id": "2fc52349-dde5-48da-82a8-3f1e848ff5b0",
   "metadata": {},
   "outputs": [],
   "source": [
    "from pathlib import Path\n",
    "\n",
    "import pandas as pd\n",
    "import matplotlib.pyplot as plt\n",
    "\n",
    "pd.set_option(\"display.max_columns\", None)"
   ]
  },
  {
   "cell_type": "code",
   "execution_count": 6,
   "id": "071ed9aa-0950-435a-9a4f-65b240a4fc70",
   "metadata": {},
   "outputs": [],
   "source": [
    "project_path = Path(\"..\")\n",
    "data_path = project_path/\"datasets\""
   ]
  },
  {
   "cell_type": "code",
   "execution_count": 7,
   "id": "17ef90fc-62be-40d2-991d-1544808a089e",
   "metadata": {},
   "outputs": [
    {
     "data": {
      "text/html": [
       "<div>\n",
       "<style scoped>\n",
       "    .dataframe tbody tr th:only-of-type {\n",
       "        vertical-align: middle;\n",
       "    }\n",
       "\n",
       "    .dataframe tbody tr th {\n",
       "        vertical-align: top;\n",
       "    }\n",
       "\n",
       "    .dataframe thead th {\n",
       "        text-align: right;\n",
       "    }\n",
       "</style>\n",
       "<table border=\"1\" class=\"dataframe\">\n",
       "  <thead>\n",
       "    <tr style=\"text-align: right;\">\n",
       "      <th></th>\n",
       "      <th>entity_id</th>\n",
       "      <th>score</th>\n",
       "      <th>label_value</th>\n",
       "      <th>race</th>\n",
       "      <th>sex</th>\n",
       "      <th>age_cat</th>\n",
       "    </tr>\n",
       "  </thead>\n",
       "  <tbody>\n",
       "    <tr>\n",
       "      <th>0</th>\n",
       "      <td>1</td>\n",
       "      <td>0.0</td>\n",
       "      <td>0</td>\n",
       "      <td>Other</td>\n",
       "      <td>Male</td>\n",
       "      <td>Greater than 45</td>\n",
       "    </tr>\n",
       "    <tr>\n",
       "      <th>1</th>\n",
       "      <td>3</td>\n",
       "      <td>0.0</td>\n",
       "      <td>1</td>\n",
       "      <td>African-American</td>\n",
       "      <td>Male</td>\n",
       "      <td>25 - 45</td>\n",
       "    </tr>\n",
       "    <tr>\n",
       "      <th>2</th>\n",
       "      <td>4</td>\n",
       "      <td>0.0</td>\n",
       "      <td>1</td>\n",
       "      <td>African-American</td>\n",
       "      <td>Male</td>\n",
       "      <td>Less than 25</td>\n",
       "    </tr>\n",
       "    <tr>\n",
       "      <th>3</th>\n",
       "      <td>5</td>\n",
       "      <td>1.0</td>\n",
       "      <td>0</td>\n",
       "      <td>African-American</td>\n",
       "      <td>Male</td>\n",
       "      <td>Less than 25</td>\n",
       "    </tr>\n",
       "    <tr>\n",
       "      <th>4</th>\n",
       "      <td>6</td>\n",
       "      <td>0.0</td>\n",
       "      <td>0</td>\n",
       "      <td>Other</td>\n",
       "      <td>Male</td>\n",
       "      <td>25 - 45</td>\n",
       "    </tr>\n",
       "  </tbody>\n",
       "</table>\n",
       "</div>"
      ],
      "text/plain": [
       "   entity_id  score  label_value              race   sex          age_cat\n",
       "0          1    0.0            0             Other  Male  Greater than 45\n",
       "1          3    0.0            1  African-American  Male          25 - 45\n",
       "2          4    0.0            1  African-American  Male     Less than 25\n",
       "3          5    1.0            0  African-American  Male     Less than 25\n",
       "4          6    0.0            0             Other  Male          25 - 45"
      ]
     },
     "execution_count": 7,
     "metadata": {},
     "output_type": "execute_result"
    }
   ],
   "source": [
    "df_compas = pd.read_csv(data_path/\"compas_for_aequitas.csv\")\n",
    "df_compas.head()"
   ]
  },
  {
   "cell_type": "markdown",
   "id": "8c04d2a2-929d-422c-9c5f-630314612029",
   "metadata": {},
   "source": [
    "## 2.3. Analyse exploratoire"
   ]
  },
  {
   "cell_type": "markdown",
   "id": "30bb44f5-ffd5-4ddb-b8a2-f57ef098fcd6",
   "metadata": {},
   "source": [
    "Dans un premier temps, une analyse des distributions des modalités des différentes variables à protéger peut révéler plusieurs pistes/hypothèses à explorer. Cette analyse est loin d'être exhaustive."
   ]
  },
  {
   "cell_type": "markdown",
   "id": "30cf9a88-25a5-4676-8065-d717d9c20d20",
   "metadata": {},
   "source": [
    "### 2.3.1. Croisement avec le score"
   ]
  },
  {
   "cell_type": "markdown",
   "id": "bc7b1da7-f62b-4434-95f2-b56115a244e0",
   "metadata": {},
   "source": [
    "**Croisement de l'origine avec le score du modèle**"
   ]
  },
  {
   "cell_type": "code",
   "execution_count": 8,
   "id": "8bd8fb8f-8bf1-46db-bf3e-ba53cd50d6f1",
   "metadata": {},
   "outputs": [
    {
     "data": {
      "text/plain": [
       "<AxesSubplot:xlabel='race'>"
      ]
     },
     "execution_count": 8,
     "metadata": {},
     "output_type": "execute_result"
    },
    {
     "data": {
      "image/png": "[encoded data removed]",
      "text/plain": [
       "<Figure size 432x288 with 1 Axes>"
      ]
     },
     "metadata": {
      "needs_background": "light"
     },
     "output_type": "display_data"
    }
   ],
   "source": [
    "# Croisement origine ethnique - Score du modèle\n",
    "(\n",
    "    pd.crosstab(df_compas.race, df_compas.score, normalize=\"index\")\n",
    "    .plot.bar()\n",
    ")"
   ]
  },
  {
   "cell_type": "markdown",
   "id": "c29ad381-3d48-475e-b360-fb44721ab713",
   "metadata": {},
   "source": [
    "**Croisement du sexe avec le score du modèle**"
   ]
  },
  {
   "cell_type": "code",
   "execution_count": 9,
   "id": "5eea6970-5f32-499c-b3a1-aea679825f36",
   "metadata": {},
   "outputs": [
    {
     "data": {
      "text/plain": [
       "<AxesSubplot:xlabel='sex'>"
      ]
     },
     "execution_count": 9,
     "metadata": {},
     "output_type": "execute_result"
    },
    {
     "data": {
      "image/png": "[encoded data removed]",
      "text/plain": [
       "<Figure size 432x288 with 1 Axes>"
      ]
     },
     "metadata": {
      "needs_background": "light"
     },
     "output_type": "display_data"
    }
   ],
   "source": [
    "# Croisement Sexe - Score du modèle\n",
    "(\n",
    "    pd.crosstab(df_compas.sex, df_compas.score, normalize=\"index\")\n",
    "    .plot.bar()\n",
    ")"
   ]
  },
  {
   "cell_type": "markdown",
   "id": "574e12af-599d-478b-98a7-d59b20e796aa",
   "metadata": {},
   "source": [
    "**Croisement de la tranche d'âge avec le score du modèle**"
   ]
  },
  {
   "cell_type": "code",
   "execution_count": 10,
   "id": "afc48b46-6b0a-45c2-b1df-ba6dcac5ed2d",
   "metadata": {},
   "outputs": [
    {
     "data": {
      "text/plain": [
       "<AxesSubplot:xlabel='age_cat'>"
      ]
     },
     "execution_count": 10,
     "metadata": {},
     "output_type": "execute_result"
    },
    {
     "data": {
      "image/png": "[encoded data removed]",
      "text/plain": [
       "<Figure size 432x288 with 1 Axes>"
      ]
     },
     "metadata": {
      "needs_background": "light"
     },
     "output_type": "display_data"
    }
   ],
   "source": [
    "# Croisement Tranche d'âge - Score du modèle\n",
    "(\n",
    "    pd.crosstab(df_compas.age_cat, df_compas.score, normalize=\"index\")\n",
    "    .plot.bar()\n",
    ")"
   ]
  },
  {
   "cell_type": "markdown",
   "id": "6e7ba5e1-f586-422d-bbf0-37d88344fbda",
   "metadata": {},
   "source": [
    "**Quelques observations**\n",
    "\n",
    "Ces observations font l'hypothèse que les données des différents sous-groupes sont représentatives des populations étudiées et que les sous-groupes comparés sont comparables.\n",
    "\n",
    "- **Origine ethnique** :Les afro-américains et les populations indigènes sont majoritairement prédits à risque élevé par le modèle. Ceci n'est pas le cas des autres modalités.\n",
    "- **Sexe**: Le score du modèle a quasiment la même répartition par rapport au sexe.\n",
    "- **Âge**: Selon le modèle, le risque de récidivisme a l'air d'être fortement corrélé à l'âge. La majorité des personnes de moins de 25 ans sont à risque élevé."
   ]
  },
  {
   "cell_type": "markdown",
   "id": "baa93ba6-2386-4d6d-8eb5-c9d44748c2bc",
   "metadata": {},
   "source": [
    "L'un des arguments qui reviennent souvent est **\"Et si ça correspond à la réalité?\"**\n",
    "\n",
    "L'analyse qui vient d'être réalisée correspond à l'analyse de la sortie du modèle. Les \n",
    "\n",
    "<center><img src=\"../themes/aequitas_bias_pipeline.png\"/></center>\n",
    "<center><figcaption>Fig.4 - Sources de biais - Source: Aequitas AAAI 2021</figcaption></center>\n",
    "\n",
    "\n",
    "\n",
    "L'équité est un enjeu sociétal."
   ]
  },
  {
   "cell_type": "markdown",
   "id": "cec6a88c-c635-4874-a0ed-77c02b113483",
   "metadata": {},
   "source": [
    "### 2.3.2. Croisement avec le label"
   ]
  },
  {
   "cell_type": "code",
   "execution_count": 23,
   "id": "5a28a950-c6c7-4926-b374-7f649dd4345e",
   "metadata": {},
   "outputs": [
    {
     "data": {
      "text/plain": [
       "<AxesSubplot:xlabel='race'>"
      ]
     },
     "execution_count": 23,
     "metadata": {},
     "output_type": "execute_result"
    },
    {
     "data": {
      "image/png": "[encoded data removed]",
      "text/plain": [
       "<Figure size 1152x576 with 2 Axes>"
      ]
     },
     "metadata": {
      "needs_background": "light"
     },
     "output_type": "display_data"
    }
   ],
   "source": [
    "# Croisement origine ethnique - Score du modèle & label\n",
    "fig, axes = plt.subplots(figsize=(16, 8), nrows=1, ncols=2)\n",
    "\n",
    "(\n",
    "    pd.crosstab(df_compas.race, df_compas.score, normalize=\"index\")\n",
    "    .plot.bar(ax=axes[0], ylim=(0, 1))\n",
    ")\n",
    "\n",
    "(\n",
    "    pd.crosstab(df_compas.race, df_compas.label_value, normalize=\"index\")\n",
    "    .plot.bar(ax=axes[1], ylim=(0, 1))\n",
    ")\n"
   ]
  },
  {
   "cell_type": "code",
   "execution_count": 24,
   "id": "870977a4",
   "metadata": {},
   "outputs": [
    {
     "data": {
      "text/plain": [
       "<AxesSubplot:xlabel='sex'>"
      ]
     },
     "execution_count": 24,
     "metadata": {},
     "output_type": "execute_result"
    },
    {
     "data": {
      "image/png": "[encoded data removed]",
      "text/plain": [
       "<Figure size 1152x576 with 2 Axes>"
      ]
     },
     "metadata": {
      "needs_background": "light"
     },
     "output_type": "display_data"
    }
   ],
   "source": [
    "# Croisement Sexe - Score du modèle & label\n",
    "fig, axes = plt.subplots(figsize=(16, 8), nrows=1, ncols=2)\n",
    "\n",
    "(\n",
    "    pd.crosstab(df_compas.sex, df_compas.score, normalize=\"index\")\n",
    "    .plot.bar(ax=axes[0], ylim=(0, 1))\n",
    ")\n",
    "\n",
    "(\n",
    "    pd.crosstab(df_compas.sex, df_compas.label_value, normalize=\"index\")\n",
    "    .plot.bar(ax=axes[1], ylim=(0, 1))\n",
    ")"
   ]
  },
  {
   "cell_type": "code",
   "execution_count": 25,
   "id": "225000dc-c2c7-4528-bfa1-6913adc97c97",
   "metadata": {},
   "outputs": [
    {
     "data": {
      "text/plain": [
       "<AxesSubplot:xlabel='age_cat'>"
      ]
     },
     "execution_count": 25,
     "metadata": {},
     "output_type": "execute_result"
    },
    {
     "data": {
      "image/png": "[encoded data removed]",
      "text/plain": [
       "<Figure size 1152x576 with 2 Axes>"
      ]
     },
     "metadata": {
      "needs_background": "light"
     },
     "output_type": "display_data"
    }
   ],
   "source": [
    "# Croisement Âge - Score du modèle & label\n",
    "fig, axes = plt.subplots(figsize=(16, 8), nrows=1, ncols=2)\n",
    "\n",
    "(\n",
    "    pd.crosstab(df_compas.age_cat, df_compas.score, normalize=\"index\")\n",
    "    .plot.bar(ax=axes[0], ylim=(0, 1))\n",
    ")\n",
    "\n",
    "(\n",
    "    pd.crosstab(df_compas.age_cat, df_compas.label_value, normalize=\"index\")\n",
    "    .plot.bar(ax=axes[1], ylim=(0, 1))\n",
    ")"
   ]
  },
  {
   "cell_type": "markdown",
   "id": "a8470d39-d46f-4fea-9266-7801a27abfb1",
   "metadata": {},
   "source": [
    "D'après ces visualisations, on constate par exemple que le pourcentage des afro-américains et des populations indigènes à risque élevé de récidivisme est bien plus élevé que la réalité.\n",
    "\n",
    "Les métriques et les méthodes mises à disposition dans Aequitas permettent de **quantifier cet écart et de le qualifier de biais ou pas selon la définition d'équité choisie**."
   ]
  },
  {
   "cell_type": "markdown",
   "id": "c7d5f06f-9847-424d-bf5d-aed38aea95d4",
   "metadata": {},
   "source": []
  }
 ],
 "metadata": {
  "kernelspec": {
   "display_name": "Python 3 (ipykernel)",
   "language": "python",
   "name": "python3"
  },
  "language_info": {
   "codemirror_mode": {
    "name": "ipython",
    "version": 3
   },
   "file_extension": ".py",
   "mimetype": "text/x-python",
   "name": "python",
   "nbconvert_exporter": "python",
   "pygments_lexer": "ipython3",
   "version": "3.9.7"
  }
 },
 "nbformat": 4,
 "nbformat_minor": 5
}
