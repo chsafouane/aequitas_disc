{
 "cells": [
  {
   "cell_type": "markdown",
   "id": "a1bb658c",
   "metadata": {
    "tags": []
   },
   "source": [
    "# 1. Introduction\n",
    "\n",
    "**Aequitas** est un outil open-source d'audit de biais et de discrimination dans les modèles de machine learning.\n",
    "\n",
    "## 1.1. Interface\n",
    "Aequitas peut être utilisé via trois interfaces.\n",
    "- Un **[package python](https://dssg.github.io/aequitas/using_python.html)**\n",
    "- Une **[interface web](https://dssg.github.io/aequitas/30_seconds_webapp.html)** qui peut être utilisée soit à partir du site d'Aequitas soit localement.\n",
    "- Une **[CLI](https://dssg.github.io/aequitas/CLI.html)**\n",
    "\n",
    "Alors que les trois interfaces permettent de mener le même type d'analyse, la CLI et l'interface web permettent de générer des rapports d'analyse de biais très rapidement. Le package python est très pratique lors d'une analyse exploratoire du biais et lors de l'interaction avec d'autres packages.\n",
    "\n",
    "Dans ce notebook, seules les fonctionnalités du package python seront présentées."
   ]
  },
  {
   "cell_type": "markdown",
   "id": "b6a4f9d1",
   "metadata": {},
   "source": [
    "## 1.2. Données d'entrée"
   ]
  },
  {
   "cell_type": "markdown",
   "id": "fff2467a",
   "metadata": {},
   "source": [
    "Pour le moment, Aequitas permet de mener des analyses seulement dans le cas de problématiques de **classification binaire**. \n",
    "\n",
    "En données d'entrée, Aequitas s'attend au moins à deux colonnes:\n",
    "\n",
    "- **score**: Cette colonne doit correspondre à la sortie du modèle. \n",
    "    - Elle peut prendre comme valeur soit des **0/1 ou des probabilités**. \n",
    "    - En cas de probabilités, l'utilisateur doit fournir le seuil permettant de séparer les deux classes.\n",
    "- **attribute**: Cette colonne correspond à la variable sensible. \n",
    "    - Aequitas permet d'analyser le biais avec **plusieurs variables sensibles** à la fois et *plusieurs colonnes* peuvent donc être fournies en entrée.\n",
    "    - Aequitas ne prend que **des variables à protéger catégorielles**.\n",
    "    - Les variables sensibles dépendent du cadre réglementaire et du contexte de l'analyse mais l'âge et le sexe sont des exemples de variables qui sont souvent considérées comme variables à protéger.\n",
    "- **label_value**: correspond à la valeur réelle (ground-truth) de de l'output. Cette colonne n'est pas obligatoire mais le fait de la fournir permet de calculer plusieurs métriques en plus.\n",
    "\n",
    "\n",
    "Mots réservés dans Aequitas: *score*, *label_value*, *id*, *model_id*, *entity_id*, *rank_abs* et *rank_pct*."
   ]
  },
  {
   "cell_type": "markdown",
   "id": "42e51201-2245-48cf-b2ed-28f6c597b039",
   "metadata": {},
   "source": [
    "<center><img src=\"../themes/python_input.jpg\"/></center>\n",
    "<center><figcaption>Fig.1 - Données d'entrée pour Aequitas</figcaption></center>"
   ]
  },
  {
   "cell_type": "markdown",
   "id": "08576c66-e6e3-46b3-9c7f-cb47be709c48",
   "metadata": {},
   "source": [
    "## 1.3. Structure d'Aequitas"
   ]
  },
  {
   "cell_type": "markdown",
   "id": "4a76b9d1-a9b9-40f8-b1d1-5fe230b7da92",
   "metadata": {},
   "source": [
    "Aequitas contient 4 classes. Chacune de ces 4 classes a un rôle spécifique.\n",
    "\n",
    "Dans la pratique, les trois classes suivantes sont utilisées l'une à la suite de l'autre.\n",
    "- `Group`: Cette classe permet de **définir les variables à protéger** et de **calculer les métriques** de groupe dessus.\n",
    "- `Bias`: Cette classe **calcule les disparités** entre les différents groupes, et ce à partir des résultats des métriques calculées par les méthodes de la classe `Group`.\n",
    "- `Fairness`: Cette classe permet de **définir la mesure d'équité** et indique si la définition est respectée par l'output du modèle.\n",
    "\n",
    "La dernière classe, en l'occurrence `Plot` contient plusieurs fonctions qui permettent d'obtenir rapidement **des visualisations adaptées** à l'output de chacune des classes ci-dessus."
   ]
  },
  {
   "cell_type": "code",
   "execution_count": null,
   "id": "1b65fc62-7841-4d1a-84e7-4608cd49a108",
   "metadata": {},
   "outputs": [],
   "source": []
  }
 ],
 "metadata": {
  "kernelspec": {
   "display_name": "Python 3 (ipykernel)",
   "language": "python",
   "name": "python3"
  },
  "language_info": {
   "codemirror_mode": {
    "name": "ipython",
    "version": 3
   },
   "file_extension": ".py",
   "mimetype": "text/x-python",
   "name": "python",
   "nbconvert_exporter": "python",
   "pygments_lexer": "ipython3",
   "version": "3.9.7"
  }
 },
 "nbformat": 4,
 "nbformat_minor": 5
}
