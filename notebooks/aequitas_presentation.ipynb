{
 "cells": [
  {
   "cell_type": "markdown",
   "id": "8ead0158-6892-4c45-a775-aa787b985f4f",
   "metadata": {},
   "source": [
    "<center><img src=\"../themes/aequitas_logo.png\"/></center>\n",
    "<center><figcaption>Fig.1 - Logo d'Aequitas</figcaption></center>"
   ]
  },
  {
   "cell_type": "markdown",
   "id": "a1bb658c",
   "metadata": {
    "tags": []
   },
   "source": [
    "# 1. Introduction\n",
    "\n",
    "**Aequitas** est un outil open-source d'audit de biais et de discrimination dans les modèles de machine learning.\n",
    "\n",
    "## 1.1. Interface\n",
    "Aequitas peut être utilisé via trois interfaces.\n",
    "- Un **[package python](https://dssg.github.io/aequitas/using_python.html)**\n",
    "- Une **[interface web](https://dssg.github.io/aequitas/30_seconds_webapp.html)** qui peut être utilisée soit à partir du site d'Aequitas soit localement.\n",
    "- Une **[CLI](https://dssg.github.io/aequitas/CLI.html)**\n",
    "\n",
    "Alors que les trois interfaces permettent de mener le même type d'analyse, la CLI et l'interface web permettent de générer des rapports d'analyse de biais très rapidement. Le package python est très pratique lors d'une analyse exploratoire du biais et lors de l'interaction avec d'autres packages.\n",
    "\n",
    "Dans ce notebook, seules les fonctionnalités du package python seront présentées."
   ]
  },
  {
   "cell_type": "markdown",
   "id": "b6a4f9d1",
   "metadata": {},
   "source": [
    "## 1.2. Données d'entrée"
   ]
  },
  {
   "cell_type": "markdown",
   "id": "fff2467a",
   "metadata": {},
   "source": [
    "Pour le moment, Aequitas permet de mener des analyses seulement dans le cas de problématiques de **classification binaire**. \n",
    "\n",
    "En données d'entrée, Aequitas s'attend au moins à deux colonnes:\n",
    "\n",
    "- **score**: Cette colonne doit correspondre à la sortie du modèle. \n",
    "    - Elle peut prendre comme valeur soit des **0/1 ou des probabilités**. \n",
    "    - En cas de probabilités, l'utilisateur doit fournir le seuil permettant de séparer les deux classes.\n",
    "- **attribute**: Cette colonne correspond à la variable sensible. \n",
    "    - Aequitas permet d'analyser le biais avec **plusieurs variables sensibles** à la fois et *plusieurs colonnes* peuvent donc être fournies en entrée.\n",
    "    - Aequitas ne prend que **des variables à protéger catégorielles**.\n",
    "    - Les variables sensibles dépendent du cadre réglementaire et du contexte de l'analyse mais l'âge et le sexe sont des exemples de variables qui sont souvent considérées comme variables à protéger.\n",
    "- **label_value**: correspond à la valeur réelle (ground-truth) de de l'output. Cette colonne n'est pas obligatoire mais le fait de la fournir permet de calculer plusieurs métriques en plus.\n",
    "\n",
    "\n",
    "Mots réservés dans Aequitas: *score*, *label_value*, *id*, *model_id*, *entity_id*, *rank_abs* et *rank_pct*."
   ]
  },
  {
   "cell_type": "markdown",
   "id": "42e51201-2245-48cf-b2ed-28f6c597b039",
   "metadata": {},
   "source": [
    "<center><img src=\"../themes/python_input.jpg\"/></center>\n",
    "<center><figcaption>Fig.2 - Données d'entrée pour Aequitas</figcaption></center>"
   ]
  },
  {
   "cell_type": "markdown",
   "id": "08576c66-e6e3-46b3-9c7f-cb47be709c48",
   "metadata": {},
   "source": [
    "## 1.3. Structure d'Aequitas"
   ]
  },
  {
   "cell_type": "markdown",
   "id": "4a76b9d1-a9b9-40f8-b1d1-5fe230b7da92",
   "metadata": {},
   "source": [
    "Aequitas contient 4 classes. Chacune de ces 4 classes a un rôle spécifique.\n",
    "\n",
    "Dans la pratique, les trois classes suivantes sont utilisées l'une à la suite de l'autre.\n",
    "- `Group`: Cette classe permet de **définir les variables à protéger** et de **calculer les métriques** de groupe dessus.\n",
    "- `Bias`: Cette classe **calcule les disparités** entre les différents groupes, et ce à partir des résultats des métriques calculées par les méthodes de la classe `Group`.\n",
    "- `Fairness`: Cette classe permet de **définir la mesure d'équité** et indique si la définition est respectée par l'output du modèle.\n",
    "\n",
    "La dernière classe, en l'occurrence `Plot` contient plusieurs fonctions qui permettent d'obtenir rapidement **des visualisations adaptées** à l'output de chacune des classes ci-dessus."
   ]
  },
  {
   "cell_type": "markdown",
   "id": "7932980f-faba-428a-b541-aca3eba0f7d8",
   "metadata": {},
   "source": [
    "# 2. Cas pratique - COMPAS"
   ]
  },
  {
   "cell_type": "markdown",
   "id": "4d700ab7-68a7-40b8-9839-5982fd2696f0",
   "metadata": {},
   "source": [
    "## 2.1. Contexte\n",
    "\n",
    "**Disclaimer: Alors que l'analyse du dataset issu de l'outil COMPAS est un usecase classique dans l'analyse des biais des modèles, cet exemple s'inspire beaucoup de la documentation d'Aequitas ainsi que de plusieurs présentations de l'équipe d'Aequitas.**\n",
    "\n",
    "*COMPAS* est un outil d'évaluation de risques d'individus qui est utilisé dans plusieurs états aux Etats-Unis. Le but de l'outil est d'évaluer les risques que peuvent présenter les individus et d'aider ainsi les juges à prendre **certains types de décisions** telle que la possibilité de mise en liberté provisoire sous caution.\n",
    "\n",
    "En 2016, ProPublica a mené une investigation de l'impact de COMPAS et des biais qu'il présente. Pour plus d'éléments sur l'analyse menée par ProPublica du modèle utilisé dans l'outil COMPAS, n'hésitez pas à consulter:\n",
    "- [Machine Bias: Risk Assessments in Criminal Sentencing](https://www.propublica.org/article/machine-bias-risk-assessments-in-criminal-sentencing)\n",
    "- [Le dépôt github de l'analyse de ProPublica](https://github.com/propublica/compas-analysis)\n",
    "\n",
    "<br>\n",
    "<center><img src=\"../themes/propublica_article_fig.jpeg\" width=\"500\" height=\"auto\"/></center>\n",
    "<center><figcaption>Fig.3 - Bernard Parker, à gauche, évalué risque élevé; Dylan Fugett évalué risque bas</figcaption></center>\n",
    "\n",
    "\n",
    "<center><a href=\"https://www.propublica.org/article/machine-bias-risk-assessments-in-criminal-sentencing\">Source: ProPublica</a></center>\n"
   ]
  },
  {
   "cell_type": "markdown",
   "id": "58656b02-16d3-4221-9c2e-20a1229fdca5",
   "metadata": {},
   "source": [
    "## 2.2. Jeu de données"
   ]
  },
  {
   "cell_type": "markdown",
   "id": "77a351fe-1ebe-45f3-be17-3ab0320aa7ce",
   "metadata": {},
   "source": [
    "COMPAS produit un score qui correspond au **risque de récidivisme**. Ce risque correspond au risque de commettre un crime dans les deux ans qui suivent.\n",
    "\n",
    "\n",
    "Le **résultat de COMPAS** correspond à un score qui va de 1 à 10. Dans ce cas pratique, ce score a été converti à un score binaire, avec:\n",
    "- Score de 0: Risque de récidivisme bas\n",
    "- Score de 1: Risque de récidivisme élevé\n",
    "\n",
    "Les **variables à protéger** dans ce cas pratique sont l'*âge*, le *sexe* et l'*origine ethnique*.\n",
    "\n",
    "Le jeu de données à disposition est issu du dépôt Github d'Aequitas et est déjà dans le bon format pour Aequitas. Il correspond à deux ans de prédictions de COMPAS sur la population concernée parmi les habitants de Broward County, FL."
   ]
  },
  {
   "cell_type": "code",
   "execution_count": 1,
   "id": "2fc52349-dde5-48da-82a8-3f1e848ff5b0",
   "metadata": {},
   "outputs": [],
   "source": [
    "from pathlib import Path\n",
    "\n",
    "import pandas as pd\n",
    "import matplotlib.pyplot as plt\n",
    "\n",
    "pd.set_option(\"display.max_columns\", None)"
   ]
  },
  {
   "cell_type": "code",
   "execution_count": 2,
   "id": "071ed9aa-0950-435a-9a4f-65b240a4fc70",
   "metadata": {},
   "outputs": [],
   "source": [
    "project_path = Path(\"..\")\n",
    "data_path = project_path/\"datasets\""
   ]
  },
  {
   "cell_type": "code",
   "execution_count": 3,
   "id": "17ef90fc-62be-40d2-991d-1544808a089e",
   "metadata": {},
   "outputs": [
    {
     "data": {
      "text/html": [
       "<div>\n",
       "<style scoped>\n",
       "    .dataframe tbody tr th:only-of-type {\n",
       "        vertical-align: middle;\n",
       "    }\n",
       "\n",
       "    .dataframe tbody tr th {\n",
       "        vertical-align: top;\n",
       "    }\n",
       "\n",
       "    .dataframe thead th {\n",
       "        text-align: right;\n",
       "    }\n",
       "</style>\n",
       "<table border=\"1\" class=\"dataframe\">\n",
       "  <thead>\n",
       "    <tr style=\"text-align: right;\">\n",
       "      <th></th>\n",
       "      <th>entity_id</th>\n",
       "      <th>score</th>\n",
       "      <th>label_value</th>\n",
       "      <th>race</th>\n",
       "      <th>sex</th>\n",
       "      <th>age_cat</th>\n",
       "    </tr>\n",
       "  </thead>\n",
       "  <tbody>\n",
       "    <tr>\n",
       "      <th>0</th>\n",
       "      <td>1</td>\n",
       "      <td>0.0</td>\n",
       "      <td>0</td>\n",
       "      <td>Other</td>\n",
       "      <td>Male</td>\n",
       "      <td>Greater than 45</td>\n",
       "    </tr>\n",
       "    <tr>\n",
       "      <th>1</th>\n",
       "      <td>3</td>\n",
       "      <td>0.0</td>\n",
       "      <td>1</td>\n",
       "      <td>African-American</td>\n",
       "      <td>Male</td>\n",
       "      <td>25 - 45</td>\n",
       "    </tr>\n",
       "    <tr>\n",
       "      <th>2</th>\n",
       "      <td>4</td>\n",
       "      <td>0.0</td>\n",
       "      <td>1</td>\n",
       "      <td>African-American</td>\n",
       "      <td>Male</td>\n",
       "      <td>Less than 25</td>\n",
       "    </tr>\n",
       "    <tr>\n",
       "      <th>3</th>\n",
       "      <td>5</td>\n",
       "      <td>1.0</td>\n",
       "      <td>0</td>\n",
       "      <td>African-American</td>\n",
       "      <td>Male</td>\n",
       "      <td>Less than 25</td>\n",
       "    </tr>\n",
       "    <tr>\n",
       "      <th>4</th>\n",
       "      <td>6</td>\n",
       "      <td>0.0</td>\n",
       "      <td>0</td>\n",
       "      <td>Other</td>\n",
       "      <td>Male</td>\n",
       "      <td>25 - 45</td>\n",
       "    </tr>\n",
       "  </tbody>\n",
       "</table>\n",
       "</div>"
      ],
      "text/plain": [
       "   entity_id  score  label_value              race   sex          age_cat\n",
       "0          1    0.0            0             Other  Male  Greater than 45\n",
       "1          3    0.0            1  African-American  Male          25 - 45\n",
       "2          4    0.0            1  African-American  Male     Less than 25\n",
       "3          5    1.0            0  African-American  Male     Less than 25\n",
       "4          6    0.0            0             Other  Male          25 - 45"
      ]
     },
     "execution_count": 3,
     "metadata": {},
     "output_type": "execute_result"
    }
   ],
   "source": [
    "df_compas = pd.read_csv(data_path/\"compas_for_aequitas.csv\")\n",
    "df_compas.head()"
   ]
  },
  {
   "cell_type": "markdown",
   "id": "8c04d2a2-929d-422c-9c5f-630314612029",
   "metadata": {},
   "source": [
    "## 2.3. Analyse exploratoire"
   ]
  },
  {
   "cell_type": "markdown",
   "id": "30bb44f5-ffd5-4ddb-b8a2-f57ef098fcd6",
   "metadata": {},
   "source": [
    "Dans un premier temps, une analyse des distributions des modalités des différentes variables à protéger peut révéler plusieurs pistes/hypothèses à explorer. Cette analyse est loin d'être exhaustive."
   ]
  },
  {
   "cell_type": "markdown",
   "id": "30cf9a88-25a5-4676-8065-d717d9c20d20",
   "metadata": {},
   "source": [
    "### 2.3.1. Croisement avec le score"
   ]
  },
  {
   "cell_type": "markdown",
   "id": "bc7b1da7-f62b-4434-95f2-b56115a244e0",
   "metadata": {},
   "source": [
    "**Croisement de l'origine avec le score du modèle**"
   ]
  },
  {
   "cell_type": "code",
   "execution_count": 4,
   "id": "8bd8fb8f-8bf1-46db-bf3e-ba53cd50d6f1",
   "metadata": {},
   "outputs": [
    {
     "data": {
      "text/plain": [
       "<AxesSubplot:xlabel='race'>"
      ]
     },
     "execution_count": 4,
     "metadata": {},
     "output_type": "execute_result"
    },
    {
     "data": {
      "image/png": "[encoded data removed]",
      "text/plain": [
       "<Figure size 432x288 with 1 Axes>"
      ]
     },
     "metadata": {
      "needs_background": "light"
     },
     "output_type": "display_data"
    }
   ],
   "source": [
    "# Croisement origine ethnique - Score du modèle\n",
    "(\n",
    "    pd.crosstab(df_compas.race, df_compas.score, normalize=\"index\")\n",
    "    .plot.bar()\n",
    ")"
   ]
  },
  {
   "cell_type": "markdown",
   "id": "c29ad381-3d48-475e-b360-fb44721ab713",
   "metadata": {},
   "source": [
    "**Croisement du sexe avec le score du modèle**"
   ]
  },
  {
   "cell_type": "code",
   "execution_count": 5,
   "id": "5eea6970-5f32-499c-b3a1-aea679825f36",
   "metadata": {},
   "outputs": [
    {
     "data": {
      "text/plain": [
       "<AxesSubplot:xlabel='sex'>"
      ]
     },
     "execution_count": 5,
     "metadata": {},
     "output_type": "execute_result"
    },
    {
     "data": {
      "image/png": "[encoded data removed]",
      "text/plain": [
       "<Figure size 432x288 with 1 Axes>"
      ]
     },
     "metadata": {
      "needs_background": "light"
     },
     "output_type": "display_data"
    }
   ],
   "source": [
    "# Croisement Sexe - Score du modèle\n",
    "(\n",
    "    pd.crosstab(df_compas.sex, df_compas.score, normalize=\"index\")\n",
    "    .plot.bar()\n",
    ")"
   ]
  },
  {
   "cell_type": "markdown",
   "id": "574e12af-599d-478b-98a7-d59b20e796aa",
   "metadata": {},
   "source": [
    "**Croisement de la tranche d'âge avec le score du modèle**"
   ]
  },
  {
   "cell_type": "code",
   "execution_count": 6,
   "id": "afc48b46-6b0a-45c2-b1df-ba6dcac5ed2d",
   "metadata": {},
   "outputs": [
    {
     "data": {
      "text/plain": [
       "<AxesSubplot:xlabel='age_cat'>"
      ]
     },
     "execution_count": 6,
     "metadata": {},
     "output_type": "execute_result"
    },
    {
     "data": {
      "image/png": "[encoded data removed]",
      "text/plain": [
       "<Figure size 432x288 with 1 Axes>"
      ]
     },
     "metadata": {
      "needs_background": "light"
     },
     "output_type": "display_data"
    }
   ],
   "source": [
    "# Croisement Tranche d'âge - Score du modèle\n",
    "(\n",
    "    pd.crosstab(df_compas.age_cat, df_compas.score, normalize=\"index\")\n",
    "    .plot.bar()\n",
    ")"
   ]
  },
  {
   "cell_type": "markdown",
   "id": "6e7ba5e1-f586-422d-bbf0-37d88344fbda",
   "metadata": {},
   "source": [
    "**Quelques observations**\n",
    "\n",
    "Ces observations font l'hypothèse que les données des différents sous-groupes sont représentatives des populations étudiées et que les sous-groupes comparés sont comparables.\n",
    "\n",
    "- **Origine ethnique** :Les afro-américains et les populations indigènes sont majoritairement prédits à risque élevé par le modèle. Ceci n'est pas le cas des autres modalités.\n",
    "- **Sexe**: Le score du modèle a quasiment la même répartition par rapport au sexe.\n",
    "- **Âge**: Selon le modèle, le risque de récidivisme a l'air d'être fortement corrélé à l'âge. La majorité des personnes de moins de 25 ans sont à risque élevé."
   ]
  },
  {
   "cell_type": "markdown",
   "id": "baa93ba6-2386-4d6d-8eb5-c9d44748c2bc",
   "metadata": {},
   "source": [
    "L'un des arguments qui reviennent souvent est **\"Et si ça correspond à la réalité?\"**\n",
    "\n",
    "L'analyse qui vient d'être réalisée correspond à l'analyse de la sortie du modèle. Les sources de biais dans un pipeline de modélisation sont légion.\n",
    "\n",
    "<center><img src=\"../themes/aequitas_bias_pipeline.png\"/></center>\n",
    "<center><figcaption>Fig.4 - Sources de biais - Source: Aequitas AAAI 2021</figcaption></center>\n"
   ]
  },
  {
   "cell_type": "markdown",
   "id": "cec6a88c-c635-4874-a0ed-77c02b113483",
   "metadata": {},
   "source": [
    "### 2.3.2. Croisement avec le label"
   ]
  },
  {
   "cell_type": "markdown",
   "id": "f393acc0",
   "metadata": {},
   "source": [
    "Le croisement des variables sensibles avec le label permet de voir si on a les mêmes distributions que celles obtenues en croisant les variables sensibles avec le score en sortie du modèle.\n",
    "Par contre, il est important de souligner l'une limites du label dont on dispose. Alors que le modèle prédit le risque de récidivisme, un label égal à 1 correspond correspond à une infraction jugée ainsi. \n",
    "- Si la présence des patrouilles de police est renforcée dans des quartiers à dominante afro-américaines, la prévalence de récidive dans cette population va augmenter.\n",
    "- Le label ne peut être calculé que pour des personnes qui ont récidivé. Le score ne peut pas être calculé pour les personnes ayant commis un premier crime et qui ont eu de lourdes peines -e.g. personnes condamnées à des dizaines d'année de prison ou à vie-. "
   ]
  },
  {
   "cell_type": "code",
   "execution_count": 7,
   "id": "5a28a950-c6c7-4926-b374-7f649dd4345e",
   "metadata": {},
   "outputs": [
    {
     "data": {
      "text/plain": [
       "<AxesSubplot:xlabel='race'>"
      ]
     },
     "execution_count": 7,
     "metadata": {},
     "output_type": "execute_result"
    },
    {
     "data": {
      "image/png": "[encoded data removed]",
      "text/plain": [
       "<Figure size 1152x576 with 2 Axes>"
      ]
     },
     "metadata": {
      "needs_background": "light"
     },
     "output_type": "display_data"
    }
   ],
   "source": [
    "# Croisement origine ethnique - Score du modèle & label\n",
    "fig, axes = plt.subplots(figsize=(16, 8), nrows=1, ncols=2)\n",
    "\n",
    "(\n",
    "    pd.crosstab(df_compas.race, df_compas.score, normalize=\"index\")\n",
    "    .plot.bar(ax=axes[0], ylim=(0, 1))\n",
    ")\n",
    "\n",
    "(\n",
    "    pd.crosstab(df_compas.race, df_compas.label_value, normalize=\"index\")\n",
    "    .plot.bar(ax=axes[1], ylim=(0, 1))\n",
    ")\n"
   ]
  },
  {
   "cell_type": "code",
   "execution_count": 8,
   "id": "870977a4",
   "metadata": {},
   "outputs": [
    {
     "data": {
      "text/plain": [
       "<AxesSubplot:xlabel='sex'>"
      ]
     },
     "execution_count": 8,
     "metadata": {},
     "output_type": "execute_result"
    },
    {
     "data": {
      "image/png": "[encoded data removed]",
      "text/plain": [
       "<Figure size 1152x576 with 2 Axes>"
      ]
     },
     "metadata": {
      "needs_background": "light"
     },
     "output_type": "display_data"
    }
   ],
   "source": [
    "# Croisement Sexe - Score du modèle & label\n",
    "fig, axes = plt.subplots(figsize=(16, 8), nrows=1, ncols=2)\n",
    "\n",
    "(\n",
    "    pd.crosstab(df_compas.sex, df_compas.score, normalize=\"index\")\n",
    "    .plot.bar(ax=axes[0], ylim=(0, 1))\n",
    ")\n",
    "\n",
    "(\n",
    "    pd.crosstab(df_compas.sex, df_compas.label_value, normalize=\"index\")\n",
    "    .plot.bar(ax=axes[1], ylim=(0, 1))\n",
    ")"
   ]
  },
  {
   "cell_type": "code",
   "execution_count": 9,
   "id": "225000dc-c2c7-4528-bfa1-6913adc97c97",
   "metadata": {},
   "outputs": [
    {
     "data": {
      "text/plain": [
       "<AxesSubplot:xlabel='age_cat'>"
      ]
     },
     "execution_count": 9,
     "metadata": {},
     "output_type": "execute_result"
    },
    {
     "data": {
      "image/png": "[encoded data removed]",
      "text/plain": [
       "<Figure size 1152x576 with 2 Axes>"
      ]
     },
     "metadata": {
      "needs_background": "light"
     },
     "output_type": "display_data"
    }
   ],
   "source": [
    "# Croisement Âge - Score du modèle & label\n",
    "fig, axes = plt.subplots(figsize=(16, 8), nrows=1, ncols=2)\n",
    "\n",
    "(\n",
    "    pd.crosstab(df_compas.age_cat, df_compas.score, normalize=\"index\")\n",
    "    .plot.bar(ax=axes[0], ylim=(0, 1))\n",
    ")\n",
    "\n",
    "(\n",
    "    pd.crosstab(df_compas.age_cat, df_compas.label_value, normalize=\"index\")\n",
    "    .plot.bar(ax=axes[1], ylim=(0, 1))\n",
    ")"
   ]
  },
  {
   "cell_type": "markdown",
   "id": "a8470d39-d46f-4fea-9266-7801a27abfb1",
   "metadata": {},
   "source": [
    "D'après ces visualisations, on constate par exemple que le pourcentage des afro-américains et des populations indigènes à risque élevé de récidivisme est bien plus élevé que la réalité.\n",
    "\n",
    "Les métriques et les méthodes mises à disposition dans Aequitas permettent de **quantifier cet écart et de le qualifier de biais ou pas selon la définition d'équité choisie**."
   ]
  },
  {
   "cell_type": "markdown",
   "id": "c7d5f06f-9847-424d-bf5d-aed38aea95d4",
   "metadata": {},
   "source": [
    "## 2.4. L' utilisation de `Group`"
   ]
  },
  {
   "cell_type": "markdown",
   "id": "2debcb48",
   "metadata": {},
   "source": [
    "### 2.4.1. Calcul des métriques de groupe"
   ]
  },
  {
   "cell_type": "code",
   "execution_count": 10,
   "id": "6e1db532-97c1-4489-a3ab-a57ab8bf625b",
   "metadata": {},
   "outputs": [],
   "source": [
    "from aequitas.group import Group"
   ]
  },
  {
   "cell_type": "markdown",
   "id": "3856c8f0-4bb5-4e9c-80b2-b58f04252f3e",
   "metadata": {},
   "source": [
    "La classe `Group` permet de **définir les variables à protéger** et de **calculer plusieurs métriques de groupe**.\n",
    "Les métriques à calculer peuvent être choisies au moment de l'instanciation d'un objet de la classe `Group`.\n",
    "\n",
    "🚨🚨🚨 A l'image du choix des métriques dans un problème de modélisation, différentes métriques peuvent être inspectées afin mieux appréhender les limites du modèle. Par contre, les métriques choisies pour évaluer le biais doivent correspondre à la définition de l'équité choisie en amont du calcul.\n",
    "\n",
    "🚨🚨🚨 **Les différentes définitions d'équité ne peuvent pas toutes être respectées en même temps**. Pour plus d'éléments sur ce point, veuillez vous référer à:\n",
    "- [21 fairness definitions and their politics](https://www.youtube.com/results?search_query=21+fairness+definitions)\n",
    "- [Fair prediction with disparate impact](https://www.andrew.cmu.edu/user/achoulde/files/disparate_impact.pdf)\n",
    "\n",
    "> If an instrument satisfies **predictive parity** but the **prevalence differs between groups**, the instrument **cannot achieve equal false positive and false negative rates across those groups**.<br><br>\n",
    "From *Fair Prediction with disparate impact* - *Alexandra Chouldechova*"
   ]
  },
  {
   "cell_type": "markdown",
   "id": "e748d1a6-6599-4651-88bc-9e333e243576",
   "metadata": {},
   "source": [
    "La méthode `get_crosstabs` permet de calculer les métriques de groupe pour chaque variable à protéger. Deux types de métriques sont calculés:\n",
    "- Les **[comptages](https://dssg.github.io/aequitas/examples/compas_demo.html#Group-Counts-Calculated:)**: Nombre de vrais positifs, nombre de faux positifs, etc.\n",
    "- Les **[ratios](https://dssg.github.io/aequitas/examples/compas_demo.html#Absolute-Metrics-Calculated:)**: Taux de faux positifs, précision, etc."
   ]
  },
  {
   "cell_type": "code",
   "execution_count": 13,
   "id": "daf4cade-9f25-490a-8768-dc51b091c0e5",
   "metadata": {},
   "outputs": [],
   "source": [
    "g = Group()\n",
    "grp_table, protected_attributes = g.get_crosstabs(df_compas, attr_cols=[\"race\", \"sex\", \"age_cat\"])"
   ]
  },
  {
   "cell_type": "code",
   "execution_count": 14,
   "id": "457c1cc5-5a40-4e6e-95db-113c620e1b76",
   "metadata": {
    "scrolled": false
   },
   "outputs": [
    {
     "data": {
      "text/html": [
       "<div>\n",
       "<style scoped>\n",
       "    .dataframe tbody tr th:only-of-type {\n",
       "        vertical-align: middle;\n",
       "    }\n",
       "\n",
       "    .dataframe tbody tr th {\n",
       "        vertical-align: top;\n",
       "    }\n",
       "\n",
       "    .dataframe thead th {\n",
       "        text-align: right;\n",
       "    }\n",
       "</style>\n",
       "<table border=\"1\" class=\"dataframe\">\n",
       "  <thead>\n",
       "    <tr style=\"text-align: right;\">\n",
       "      <th></th>\n",
       "      <th>model_id</th>\n",
       "      <th>score_threshold</th>\n",
       "      <th>k</th>\n",
       "      <th>attribute_name</th>\n",
       "      <th>attribute_value</th>\n",
       "      <th>tpr</th>\n",
       "      <th>tnr</th>\n",
       "      <th>for</th>\n",
       "      <th>fdr</th>\n",
       "      <th>fpr</th>\n",
       "      <th>fnr</th>\n",
       "      <th>npv</th>\n",
       "      <th>precision</th>\n",
       "      <th>pp</th>\n",
       "      <th>pn</th>\n",
       "      <th>ppr</th>\n",
       "      <th>pprev</th>\n",
       "      <th>fp</th>\n",
       "      <th>fn</th>\n",
       "      <th>tn</th>\n",
       "      <th>tp</th>\n",
       "      <th>group_label_pos</th>\n",
       "      <th>group_label_neg</th>\n",
       "      <th>group_size</th>\n",
       "      <th>total_entities</th>\n",
       "      <th>prev</th>\n",
       "    </tr>\n",
       "  </thead>\n",
       "  <tbody>\n",
       "    <tr>\n",
       "      <th>0</th>\n",
       "      <td>0</td>\n",
       "      <td>binary 0/1</td>\n",
       "      <td>3317</td>\n",
       "      <td>race</td>\n",
       "      <td>African-American</td>\n",
       "      <td>0.72</td>\n",
       "      <td>0.55</td>\n",
       "      <td>0.35</td>\n",
       "      <td>0.37</td>\n",
       "      <td>0.45</td>\n",
       "      <td>0.28</td>\n",
       "      <td>0.65</td>\n",
       "      <td>0.63</td>\n",
       "      <td>2174</td>\n",
       "      <td>1522</td>\n",
       "      <td>0.66</td>\n",
       "      <td>0.59</td>\n",
       "      <td>805</td>\n",
       "      <td>532</td>\n",
       "      <td>990</td>\n",
       "      <td>1369</td>\n",
       "      <td>1901</td>\n",
       "      <td>1795</td>\n",
       "      <td>3696</td>\n",
       "      <td>7214</td>\n",
       "      <td>0.51</td>\n",
       "    </tr>\n",
       "    <tr>\n",
       "      <th>1</th>\n",
       "      <td>0</td>\n",
       "      <td>binary 0/1</td>\n",
       "      <td>3317</td>\n",
       "      <td>race</td>\n",
       "      <td>Asian</td>\n",
       "      <td>0.67</td>\n",
       "      <td>0.91</td>\n",
       "      <td>0.12</td>\n",
       "      <td>0.25</td>\n",
       "      <td>0.09</td>\n",
       "      <td>0.33</td>\n",
       "      <td>0.88</td>\n",
       "      <td>0.75</td>\n",
       "      <td>8</td>\n",
       "      <td>24</td>\n",
       "      <td>0.00</td>\n",
       "      <td>0.25</td>\n",
       "      <td>2</td>\n",
       "      <td>3</td>\n",
       "      <td>21</td>\n",
       "      <td>6</td>\n",
       "      <td>9</td>\n",
       "      <td>23</td>\n",
       "      <td>32</td>\n",
       "      <td>7214</td>\n",
       "      <td>0.28</td>\n",
       "    </tr>\n",
       "    <tr>\n",
       "      <th>2</th>\n",
       "      <td>0</td>\n",
       "      <td>binary 0/1</td>\n",
       "      <td>3317</td>\n",
       "      <td>race</td>\n",
       "      <td>Caucasian</td>\n",
       "      <td>0.52</td>\n",
       "      <td>0.77</td>\n",
       "      <td>0.29</td>\n",
       "      <td>0.41</td>\n",
       "      <td>0.23</td>\n",
       "      <td>0.48</td>\n",
       "      <td>0.71</td>\n",
       "      <td>0.59</td>\n",
       "      <td>854</td>\n",
       "      <td>1600</td>\n",
       "      <td>0.26</td>\n",
       "      <td>0.35</td>\n",
       "      <td>349</td>\n",
       "      <td>461</td>\n",
       "      <td>1139</td>\n",
       "      <td>505</td>\n",
       "      <td>966</td>\n",
       "      <td>1488</td>\n",
       "      <td>2454</td>\n",
       "      <td>7214</td>\n",
       "      <td>0.39</td>\n",
       "    </tr>\n",
       "    <tr>\n",
       "      <th>3</th>\n",
       "      <td>0</td>\n",
       "      <td>binary 0/1</td>\n",
       "      <td>3317</td>\n",
       "      <td>race</td>\n",
       "      <td>Hispanic</td>\n",
       "      <td>0.44</td>\n",
       "      <td>0.79</td>\n",
       "      <td>0.29</td>\n",
       "      <td>0.46</td>\n",
       "      <td>0.21</td>\n",
       "      <td>0.56</td>\n",
       "      <td>0.71</td>\n",
       "      <td>0.54</td>\n",
       "      <td>190</td>\n",
       "      <td>447</td>\n",
       "      <td>0.06</td>\n",
       "      <td>0.30</td>\n",
       "      <td>87</td>\n",
       "      <td>129</td>\n",
       "      <td>318</td>\n",
       "      <td>103</td>\n",
       "      <td>232</td>\n",
       "      <td>405</td>\n",
       "      <td>637</td>\n",
       "      <td>7214</td>\n",
       "      <td>0.36</td>\n",
       "    </tr>\n",
       "    <tr>\n",
       "      <th>4</th>\n",
       "      <td>0</td>\n",
       "      <td>binary 0/1</td>\n",
       "      <td>3317</td>\n",
       "      <td>race</td>\n",
       "      <td>Native American</td>\n",
       "      <td>0.90</td>\n",
       "      <td>0.62</td>\n",
       "      <td>0.17</td>\n",
       "      <td>0.25</td>\n",
       "      <td>0.38</td>\n",
       "      <td>0.10</td>\n",
       "      <td>0.83</td>\n",
       "      <td>0.75</td>\n",
       "      <td>12</td>\n",
       "      <td>6</td>\n",
       "      <td>0.00</td>\n",
       "      <td>0.67</td>\n",
       "      <td>3</td>\n",
       "      <td>1</td>\n",
       "      <td>5</td>\n",
       "      <td>9</td>\n",
       "      <td>10</td>\n",
       "      <td>8</td>\n",
       "      <td>18</td>\n",
       "      <td>7214</td>\n",
       "      <td>0.56</td>\n",
       "    </tr>\n",
       "    <tr>\n",
       "      <th>5</th>\n",
       "      <td>0</td>\n",
       "      <td>binary 0/1</td>\n",
       "      <td>3317</td>\n",
       "      <td>race</td>\n",
       "      <td>Other</td>\n",
       "      <td>0.32</td>\n",
       "      <td>0.85</td>\n",
       "      <td>0.30</td>\n",
       "      <td>0.46</td>\n",
       "      <td>0.15</td>\n",
       "      <td>0.68</td>\n",
       "      <td>0.70</td>\n",
       "      <td>0.54</td>\n",
       "      <td>79</td>\n",
       "      <td>298</td>\n",
       "      <td>0.02</td>\n",
       "      <td>0.21</td>\n",
       "      <td>36</td>\n",
       "      <td>90</td>\n",
       "      <td>208</td>\n",
       "      <td>43</td>\n",
       "      <td>133</td>\n",
       "      <td>244</td>\n",
       "      <td>377</td>\n",
       "      <td>7214</td>\n",
       "      <td>0.35</td>\n",
       "    </tr>\n",
       "    <tr>\n",
       "      <th>6</th>\n",
       "      <td>0</td>\n",
       "      <td>binary 0/1</td>\n",
       "      <td>3317</td>\n",
       "      <td>sex</td>\n",
       "      <td>Female</td>\n",
       "      <td>0.61</td>\n",
       "      <td>0.68</td>\n",
       "      <td>0.24</td>\n",
       "      <td>0.49</td>\n",
       "      <td>0.32</td>\n",
       "      <td>0.39</td>\n",
       "      <td>0.76</td>\n",
       "      <td>0.51</td>\n",
       "      <td>591</td>\n",
       "      <td>804</td>\n",
       "      <td>0.18</td>\n",
       "      <td>0.42</td>\n",
       "      <td>288</td>\n",
       "      <td>195</td>\n",
       "      <td>609</td>\n",
       "      <td>303</td>\n",
       "      <td>498</td>\n",
       "      <td>897</td>\n",
       "      <td>1395</td>\n",
       "      <td>7214</td>\n",
       "      <td>0.36</td>\n",
       "    </tr>\n",
       "    <tr>\n",
       "      <th>7</th>\n",
       "      <td>0</td>\n",
       "      <td>binary 0/1</td>\n",
       "      <td>3317</td>\n",
       "      <td>sex</td>\n",
       "      <td>Male</td>\n",
       "      <td>0.63</td>\n",
       "      <td>0.68</td>\n",
       "      <td>0.33</td>\n",
       "      <td>0.36</td>\n",
       "      <td>0.32</td>\n",
       "      <td>0.37</td>\n",
       "      <td>0.67</td>\n",
       "      <td>0.64</td>\n",
       "      <td>2726</td>\n",
       "      <td>3093</td>\n",
       "      <td>0.82</td>\n",
       "      <td>0.47</td>\n",
       "      <td>994</td>\n",
       "      <td>1021</td>\n",
       "      <td>2072</td>\n",
       "      <td>1732</td>\n",
       "      <td>2753</td>\n",
       "      <td>3066</td>\n",
       "      <td>5819</td>\n",
       "      <td>7214</td>\n",
       "      <td>0.47</td>\n",
       "    </tr>\n",
       "    <tr>\n",
       "      <th>8</th>\n",
       "      <td>0</td>\n",
       "      <td>binary 0/1</td>\n",
       "      <td>3317</td>\n",
       "      <td>age_cat</td>\n",
       "      <td>25 - 45</td>\n",
       "      <td>0.63</td>\n",
       "      <td>0.67</td>\n",
       "      <td>0.32</td>\n",
       "      <td>0.39</td>\n",
       "      <td>0.33</td>\n",
       "      <td>0.37</td>\n",
       "      <td>0.68</td>\n",
       "      <td>0.61</td>\n",
       "      <td>1924</td>\n",
       "      <td>2185</td>\n",
       "      <td>0.58</td>\n",
       "      <td>0.47</td>\n",
       "      <td>741</td>\n",
       "      <td>706</td>\n",
       "      <td>1479</td>\n",
       "      <td>1183</td>\n",
       "      <td>1889</td>\n",
       "      <td>2220</td>\n",
       "      <td>4109</td>\n",
       "      <td>7214</td>\n",
       "      <td>0.46</td>\n",
       "    </tr>\n",
       "    <tr>\n",
       "      <th>9</th>\n",
       "      <td>0</td>\n",
       "      <td>binary 0/1</td>\n",
       "      <td>3317</td>\n",
       "      <td>age_cat</td>\n",
       "      <td>Greater than 45</td>\n",
       "      <td>0.43</td>\n",
       "      <td>0.83</td>\n",
       "      <td>0.24</td>\n",
       "      <td>0.46</td>\n",
       "      <td>0.17</td>\n",
       "      <td>0.57</td>\n",
       "      <td>0.76</td>\n",
       "      <td>0.54</td>\n",
       "      <td>394</td>\n",
       "      <td>1182</td>\n",
       "      <td>0.12</td>\n",
       "      <td>0.25</td>\n",
       "      <td>181</td>\n",
       "      <td>285</td>\n",
       "      <td>897</td>\n",
       "      <td>213</td>\n",
       "      <td>498</td>\n",
       "      <td>1078</td>\n",
       "      <td>1576</td>\n",
       "      <td>7214</td>\n",
       "      <td>0.32</td>\n",
       "    </tr>\n",
       "    <tr>\n",
       "      <th>10</th>\n",
       "      <td>0</td>\n",
       "      <td>binary 0/1</td>\n",
       "      <td>3317</td>\n",
       "      <td>age_cat</td>\n",
       "      <td>Less than 25</td>\n",
       "      <td>0.74</td>\n",
       "      <td>0.46</td>\n",
       "      <td>0.42</td>\n",
       "      <td>0.36</td>\n",
       "      <td>0.54</td>\n",
       "      <td>0.26</td>\n",
       "      <td>0.58</td>\n",
       "      <td>0.64</td>\n",
       "      <td>999</td>\n",
       "      <td>530</td>\n",
       "      <td>0.30</td>\n",
       "      <td>0.65</td>\n",
       "      <td>360</td>\n",
       "      <td>225</td>\n",
       "      <td>305</td>\n",
       "      <td>639</td>\n",
       "      <td>864</td>\n",
       "      <td>665</td>\n",
       "      <td>1529</td>\n",
       "      <td>7214</td>\n",
       "      <td>0.57</td>\n",
       "    </tr>\n",
       "  </tbody>\n",
       "</table>\n",
       "</div>"
      ],
      "text/plain": [
       "    model_id score_threshold     k attribute_name   attribute_value   tpr  \\\n",
       "0          0      binary 0/1  3317           race  African-American  0.72   \n",
       "1          0      binary 0/1  3317           race             Asian  0.67   \n",
       "2          0      binary 0/1  3317           race         Caucasian  0.52   \n",
       "3          0      binary 0/1  3317           race          Hispanic  0.44   \n",
       "4          0      binary 0/1  3317           race   Native American  0.90   \n",
       "5          0      binary 0/1  3317           race             Other  0.32   \n",
       "6          0      binary 0/1  3317            sex            Female  0.61   \n",
       "7          0      binary 0/1  3317            sex              Male  0.63   \n",
       "8          0      binary 0/1  3317        age_cat           25 - 45  0.63   \n",
       "9          0      binary 0/1  3317        age_cat   Greater than 45  0.43   \n",
       "10         0      binary 0/1  3317        age_cat      Less than 25  0.74   \n",
       "\n",
       "     tnr   for   fdr   fpr   fnr   npv  precision    pp    pn   ppr  pprev  \\\n",
       "0   0.55  0.35  0.37  0.45  0.28  0.65       0.63  2174  1522  0.66   0.59   \n",
       "1   0.91  0.12  0.25  0.09  0.33  0.88       0.75     8    24  0.00   0.25   \n",
       "2   0.77  0.29  0.41  0.23  0.48  0.71       0.59   854  1600  0.26   0.35   \n",
       "3   0.79  0.29  0.46  0.21  0.56  0.71       0.54   190   447  0.06   0.30   \n",
       "4   0.62  0.17  0.25  0.38  0.10  0.83       0.75    12     6  0.00   0.67   \n",
       "5   0.85  0.30  0.46  0.15  0.68  0.70       0.54    79   298  0.02   0.21   \n",
       "6   0.68  0.24  0.49  0.32  0.39  0.76       0.51   591   804  0.18   0.42   \n",
       "7   0.68  0.33  0.36  0.32  0.37  0.67       0.64  2726  3093  0.82   0.47   \n",
       "8   0.67  0.32  0.39  0.33  0.37  0.68       0.61  1924  2185  0.58   0.47   \n",
       "9   0.83  0.24  0.46  0.17  0.57  0.76       0.54   394  1182  0.12   0.25   \n",
       "10  0.46  0.42  0.36  0.54  0.26  0.58       0.64   999   530  0.30   0.65   \n",
       "\n",
       "     fp    fn    tn    tp  group_label_pos  group_label_neg  group_size  \\\n",
       "0   805   532   990  1369             1901             1795        3696   \n",
       "1     2     3    21     6                9               23          32   \n",
       "2   349   461  1139   505              966             1488        2454   \n",
       "3    87   129   318   103              232              405         637   \n",
       "4     3     1     5     9               10                8          18   \n",
       "5    36    90   208    43              133              244         377   \n",
       "6   288   195   609   303              498              897        1395   \n",
       "7   994  1021  2072  1732             2753             3066        5819   \n",
       "8   741   706  1479  1183             1889             2220        4109   \n",
       "9   181   285   897   213              498             1078        1576   \n",
       "10  360   225   305   639              864              665        1529   \n",
       "\n",
       "    total_entities  prev  \n",
       "0             7214  0.51  \n",
       "1             7214  0.28  \n",
       "2             7214  0.39  \n",
       "3             7214  0.36  \n",
       "4             7214  0.56  \n",
       "5             7214  0.35  \n",
       "6             7214  0.36  \n",
       "7             7214  0.47  \n",
       "8             7214  0.46  \n",
       "9             7214  0.32  \n",
       "10            7214  0.57  "
      ]
     },
     "execution_count": 14,
     "metadata": {},
     "output_type": "execute_result"
    }
   ],
   "source": [
    "grp_table.round(2)"
   ]
  },
  {
   "cell_type": "markdown",
   "id": "e1602588",
   "metadata": {},
   "source": [
    "### 2.4.2. Plotting des métriques"
   ]
  },
  {
   "cell_type": "markdown",
   "id": "491c182f",
   "metadata": {},
   "source": [
    "Pour tracer les métriques issues des calculs de `Group`, il existe deux méthodes dans la classe `Plot`.\n",
    "- `plot_group_metric`: trace la valeur de la métrique en question pour chaque sous-groupe des variables à protéger.\n",
    "- `plot_group_metric_all`: trace plusieurs pour chaque sous-groupe des variables à protéger."
   ]
  },
  {
   "cell_type": "code",
   "execution_count": 15,
   "id": "3195108b",
   "metadata": {},
   "outputs": [],
   "source": [
    "from aequitas.plotting import Plot"
   ]
  },
  {
   "cell_type": "code",
   "execution_count": 16,
   "id": "6848d363",
   "metadata": {},
   "outputs": [],
   "source": [
    "aq_plot = Plot()"
   ]
  },
  {
   "cell_type": "code",
   "execution_count": 18,
   "id": "e885307e",
   "metadata": {},
   "outputs": [
    {
     "data": {
      "image/png": "[encoded data removed]",
      "text/plain": [
       "<Figure size 720x360 with 1 Axes>"
      ]
     },
     "metadata": {
      "needs_background": "light"
     },
     "output_type": "display_data"
    }
   ],
   "source": [
    "tpr = aq_plot.plot_group_metric(group_table=grp_table,\n",
    "                               group_metric=\"tpr\")"
   ]
  },
  {
   "cell_type": "code",
   "execution_count": 30,
   "id": "e8cdd29c",
   "metadata": {},
   "outputs": [
    {
     "data": {
      "image/png": "[encoded data removed]",
      "text/plain": [
       "<Figure size 1800x432 with 2 Axes>"
      ]
     },
     "metadata": {
      "needs_background": "light"
     },
     "output_type": "display_data"
    },
    {
     "data": {
      "text/plain": [
       "<Figure size 432x288 with 0 Axes>"
      ]
     },
     "metadata": {},
     "output_type": "display_data"
    }
   ],
   "source": [
    "fpr_fnr_plot = aq_plot.plot_group_metric_all(grp_table, metrics=[\"fpr\", \"fnr\"], ncols=2)"
   ]
  },
  {
   "cell_type": "code",
   "execution_count": null,
   "id": "16f8702b",
   "metadata": {},
   "outputs": [],
   "source": []
  }
 ],
 "metadata": {
  "kernelspec": {
   "display_name": "Python 3 (ipykernel)",
   "language": "python",
   "name": "python3"
  },
  "language_info": {
   "codemirror_mode": {
    "name": "ipython",
    "version": 3
   },
   "file_extension": ".py",
   "mimetype": "text/x-python",
   "name": "python",
   "nbconvert_exporter": "python",
   "pygments_lexer": "ipython3",
   "version": "3.9.7"
  }
 },
 "nbformat": 4,
 "nbformat_minor": 5
}
