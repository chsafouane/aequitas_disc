{
 "cells": [
  {
   "cell_type": "code",
   "execution_count": null,
   "id": "5c2d2990",
   "metadata": {},
   "outputs": [],
   "source": [
    "from pathlib import Path\n",
    "\n",
    "import numpy as np\n",
    "import pandas as pd\n",
    "import matplotlib.pyplot as plt\n",
    "\n",
    "pd.set_option(\"display.max_columns\", None)"
   ]
  },
  {
   "cell_type": "code",
   "execution_count": null,
   "id": "2c672897",
   "metadata": {},
   "outputs": [],
   "source": [
    "project_path = Path(\"..\")\n",
    "data_path = project_path/\"datasets\""
   ]
  },
  {
   "cell_type": "code",
   "execution_count": null,
   "id": "b895261f",
   "metadata": {},
   "outputs": [],
   "source": [
    "df_compas = pd.read_csv(data_path/\"raw\"/\"compas-scores-two-years.csv\")\n",
    "df_compas.head()"
   ]
  },
  {
   "cell_type": "code",
   "execution_count": null,
   "id": "868b7019",
   "metadata": {},
   "outputs": [],
   "source": [
    "df_compas = (\n",
    "                df_compas\n",
    "                .assign(\n",
    "                    entity_id = df_compas[\"id\"],\n",
    "                    score = np.where(df_compas[\"score_text\"] == \"Low\", 0., 1.),\n",
    "                    label_value = df_compas[\"two_year_recid\"],\n",
    "                )\n",
    "                .drop(columns=[\"id\", \"score_text\", \"two_year_recid\"])\n",
    "            )"
   ]
  },
  {
   "cell_type": "code",
   "execution_count": null,
   "id": "5a55c2bd",
   "metadata": {},
   "outputs": [],
   "source": [
    "df_compas.columns"
   ]
  },
  {
   "cell_type": "code",
   "execution_count": null,
   "id": "8cfdd24d",
   "metadata": {},
   "outputs": [],
   "source": [
    "df_compas[[\"entity_id\", \"sex\", \"age_cat\", \"race\",  \n",
    "           \"priors_count\", \"c_charge_degree\", \"label_value\"]]"
   ]
  },
  {
   "cell_type": "code",
   "execution_count": null,
   "id": "421f94bd",
   "metadata": {},
   "outputs": [],
   "source": [
    "(\n",
    "    df_compas\n",
    "    .to_csv(data_path/\"compas_for_fairlearn.csv\")\n",
    ")"
   ]
  }
 ],
 "metadata": {
  "kernelspec": {
   "display_name": "Python 3 (ipykernel)",
   "language": "python",
   "name": "python3"
  },
  "language_info": {
   "codemirror_mode": {
    "name": "ipython",
    "version": 3
   },
   "file_extension": ".py",
   "mimetype": "text/x-python",
   "name": "python",
   "nbconvert_exporter": "python",
   "pygments_lexer": "ipython3",
   "version": "3.9.7"
  }
 },
 "nbformat": 4,
 "nbformat_minor": 5
}
